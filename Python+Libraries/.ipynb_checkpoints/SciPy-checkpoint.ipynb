{
 "cells": [
  {
   "cell_type": "code",
   "execution_count": 5,
   "metadata": {},
   "outputs": [
    {
     "name": "stdout",
     "output_type": "stream",
     "text": [
      "1.4.1\n"
     ]
    }
   ],
   "source": [
    "#SciPy - Scientific Python - For Scientific Calculations\n",
    "import scipy\n",
    "print(scipy.__version__)"
   ]
  },
  {
   "cell_type": "code",
   "execution_count": 6,
   "metadata": {},
   "outputs": [
    {
     "name": "stdout",
     "output_type": "stream",
     "text": [
      "0.01\n",
      "0.001\n",
      "1e-06\n",
      "3600.0\n",
      "60.0\n",
      "0.0254\n",
      "0.9143999999999999\n",
      "0.2777777777777778\n"
     ]
    }
   ],
   "source": [
    "from scipy import constants\n",
    "print(constants.centi)\n",
    "print(constants.milli)\n",
    "print(constants.micro)\n",
    "print(constants.hour)\n",
    "print(constants.minute)\n",
    "print(constants.inch)\n",
    "print(constants.yard)\n",
    "print(constants.kmh)"
   ]
  },
  {
   "cell_type": "code",
   "execution_count": 10,
   "metadata": {},
   "outputs": [],
   "source": [
    "#Interpolation - Finding value between two points on curve\n",
    "import numpy as np\n",
    "from scipy import interpolate\n",
    "import matplotlib.pyplot as plt\n",
    "var1=np.linspace(0,4,12)\n",
    "var2=np.cos(var1*2/2)"
   ]
  },
  {
   "cell_type": "code",
   "execution_count": 11,
   "metadata": {},
   "outputs": [
    {
     "data": {
      "text/plain": [
       "[<matplotlib.lines.Line2D at 0x2350eaabca0>]"
      ]
     },
     "execution_count": 11,
     "metadata": {},
     "output_type": "execute_result"
    },
    {
     "data": {
      "image/png": "[encoded data removed]",
      "text/plain": [
       "<Figure size 432x288 with 1 Axes>"
      ]
     },
     "metadata": {
      "needs_background": "light"
     },
     "output_type": "display_data"
    }
   ],
   "source": [
    "plt.plot(var1,var2,'o')"
   ]
  },
  {
   "cell_type": "code",
   "execution_count": 17,
   "metadata": {},
   "outputs": [
    {
     "name": "stdout",
     "output_type": "stream",
     "text": [
      "32.0\n",
      "0.7071067811865475\n",
      "1.0\n",
      "1.0\n",
      "0.7071067811865475\n"
     ]
    }
   ],
   "source": [
    "from scipy import special\n",
    "print(special.exp2(5))\n",
    "print(special.cosdg(45))\n",
    "print(special.sindg(90))\n",
    "print(special.tandg(45))\n",
    "print(special.cotdg(45)*special.cosdg(45))"
   ]
  },
  {
   "cell_type": "code",
   "execution_count": 14,
   "metadata": {},
   "outputs": [
    {
     "name": "stdout",
     "output_type": "stream",
     "text": [
      "[ 55. -0.j -10.+15.j -15. -0.j -10.-15.j]\n",
      "[13.75-0.j   -2.5 -3.75j -3.75-0.j   -2.5 +3.75j]\n"
     ]
    }
   ],
   "source": [
    "#Fourier Transform + Inverse Fourier Transform\n",
    "from scipy.fftpack import fft,ifft\n",
    "numarr=np.array([5,10,15,25])\n",
    "print(fft(numarr))\n",
    "print(ifft(numarr))"
   ]
  },
  {
   "cell_type": "code",
   "execution_count": 19,
   "metadata": {},
   "outputs": [
    {
     "name": "stdout",
     "output_type": "stream",
     "text": [
      "[[-0.875  0.125]\n",
      " [ 0.375 -0.025]]\n"
     ]
    }
   ],
   "source": [
    "#Inverse Of Matrix\n",
    "from scipy import linalg\n",
    "matrx=np.array([[1,5],[15,35]])\n",
    "print(linalg.inv(matrx))"
   ]
  },
  {
   "cell_type": "code",
   "execution_count": 20,
   "metadata": {},
   "outputs": [
    {
     "name": "stdout",
     "output_type": "stream",
     "text": [
      "-40.0\n"
     ]
    }
   ],
   "source": [
    "#Determinant Of Matrix\n",
    "print(linalg.det(matrx))"
   ]
  }
 ],
 "metadata": {
  "kernelspec": {
   "display_name": "Python 3",
   "language": "python",
   "name": "python3"
  },
  "language_info": {
   "codemirror_mode": {
    "name": "ipython",
    "version": 3
   },
   "file_extension": ".py",
   "mimetype": "text/x-python",
   "name": "python",
   "nbconvert_exporter": "python",
   "pygments_lexer": "ipython3",
   "version": "3.8.1"
  }
 },
 "nbformat": 4,
 "nbformat_minor": 4
}
