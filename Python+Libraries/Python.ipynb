{
 "cells": [
  {
   "cell_type": "code",
   "execution_count": 5,
   "metadata": {},
   "outputs": [
    {
     "name": "stdout",
     "output_type": "stream",
     "text": [
      "15\n",
      "15\n",
      "Hello Friend!Python Tutorial ello Hello Friend!Hello Friend!\n"
     ]
    }
   ],
   "source": [
    "num1=5\n",
    "num2=10\n",
    "num3=num1+num2\n",
    "str1=\"Hello Friend!\"\n",
    "str2=\"Python Tutorial\"\n",
    "print(num1+num2)\n",
    "print(num3)\n",
    "print(str1+str2, str1[1:5], str1*2)"
   ]
  },
  {
   "cell_type": "code",
   "execution_count": 8,
   "metadata": {},
   "outputs": [
    {
     "name": "stdout",
     "output_type": "stream",
     "text": [
      "25\n"
     ]
    }
   ],
   "source": [
    "num1=10\n",
    "num2=15\n",
    "if(num1>num2):\n",
    "    pass #Execute Nothing\n",
    "print(num1+num2)"
   ]
  },
  {
   "cell_type": "code",
   "execution_count": 7,
   "metadata": {},
   "outputs": [
    {
     "name": "stdout",
     "output_type": "stream",
     "text": [
      "10\n",
      "11\n",
      "12\n",
      "13\n",
      "14\n",
      "15\n",
      "16\n",
      "17\n",
      "18\n",
      "19\n",
      "20\n",
      "21\n",
      "22\n",
      "23\n",
      "24\n"
     ]
    }
   ],
   "source": [
    "num1=10\n",
    "num2=15\n",
    "for num3 in range(num2):\n",
    "    print(num1+num3)"
   ]
  },
  {
   "cell_type": "code",
   "execution_count": 13,
   "metadata": {},
   "outputs": [
    {
     "name": "stdout",
     "output_type": "stream",
     "text": [
      "['Virat', 'Rohit', ['Dhoni']]\n",
      "['Virat', ['JB'], ['Dhoni']]\n",
      "['Virat', ['JB'], ['Dhoni'], 'Faf', 'Watson'] 3 2\n"
     ]
    }
   ],
   "source": [
    "lists1=[\"Virat\",\"Rohit\",\"Pant\"]\n",
    "lists1[2]=[\"Dhoni\"]\n",
    "print(lists1)\n",
    "lists1[1]=[\"JB\"]\n",
    "print(lists1)\n",
    "lists2=[\"Faf\",\"Watson\"]\n",
    "print(lists1+lists2,len(lists1),len(lists2))"
   ]
  },
  {
   "cell_type": "code",
   "execution_count": 21,
   "metadata": {},
   "outputs": [
    {
     "name": "stdout",
     "output_type": "stream",
     "text": [
      "Enter Value: Name\n",
      "['Name']\n"
     ]
    }
   ],
   "source": [
    "lists=[]\n",
    "var=input(\"Enter Value: \")\n",
    "lists.append(var)\n",
    "print(lists)"
   ]
  },
  {
   "cell_type": "code",
   "execution_count": 18,
   "metadata": {},
   "outputs": [
    {
     "name": "stdout",
     "output_type": "stream",
     "text": [
      "('Cricket', 'Football') Football Cricket\n"
     ]
    }
   ],
   "source": [
    "tuples=(\"Cricket\",\"Football\")\n",
    "print(tuples,tuples[1],tuples[-2])"
   ]
  },
  {
   "cell_type": "code",
   "execution_count": 29,
   "metadata": {},
   "outputs": [
    {
     "name": "stdout",
     "output_type": "stream",
     "text": [
      "{'a': 'A', 'b': 'B'}\n",
      "{'a': 'Name'}\n"
     ]
    }
   ],
   "source": [
    "dictnrs={\"a\":\"A\",\"b\":\"B\"}\n",
    "print(dictnrs)\n",
    "dictnrs[\"a\"]=\"Name\"\n",
    "del dictnrs[\"b\"]\n",
    "print(dictnrs)"
   ]
  },
  {
   "cell_type": "code",
   "execution_count": 30,
   "metadata": {},
   "outputs": [
    {
     "name": "stdout",
     "output_type": "stream",
     "text": [
      "41\n",
      "10\n",
      "120 8.0\n"
     ]
    }
   ],
   "source": [
    "import math\n",
    "print(math.ceil(40.55))\n",
    "print(math.floor(10.05))\n",
    "print(math.factorial(5),math.pow(2,3))"
   ]
  },
  {
   "cell_type": "code",
   "execution_count": 36,
   "metadata": {},
   "outputs": [
    {
     "name": "stdout",
     "output_type": "stream",
     "text": [
      "Cat\n",
      "Cheetah\n",
      "Dog\n"
     ]
    }
   ],
   "source": [
    "#Abstractiion - Hide Essential Functions\n",
    "#Polymorphism - Runtime, Compiletime - Method Overriding, Method Overloading\n",
    "#Inheritance - Ability to take more than one form - Multiple Inheritance not supported in Java - Only using Interfaces\n",
    "\n",
    "#Multiple Inheritance - Many base class, one derived class\n",
    "class Animal1:\n",
    "    def Func1(self):\n",
    "        print(\"Cat\")\n",
    "class Animal2:\n",
    "    def Func2(self):\n",
    "        print(\"Cheetah\")\n",
    "class Dog(Animal1,Animal2):\n",
    "    def Func3(self):\n",
    "        print(\"Dog\")\n",
    "\n",
    "Obj=Dog()\n",
    "Obj.Func1()\n",
    "Obj.Func2()\n",
    "Obj.Func3()"
   ]
  },
  {
   "cell_type": "code",
   "execution_count": 42,
   "metadata": {},
   "outputs": [
    {
     "name": "stdout",
     "output_type": "stream",
     "text": [
      "Enter Number:5\n",
      "Factorial= 120\n"
     ]
    }
   ],
   "source": [
    "def factorial(num):\n",
    "    if num==1:\n",
    "        return 1\n",
    "    else:\n",
    "        return (num*factorial(num-1))\n",
    "num=int(input(\"Enter Number:\"))\n",
    "print(\"Factorial=\",factorial(num))"
   ]
  }
 ],
 "metadata": {
  "kernelspec": {
   "display_name": "Python 3",
   "language": "python",
   "name": "python3"
  },
  "language_info": {
   "codemirror_mode": {
    "name": "ipython",
    "version": 3
   },
   "file_extension": ".py",
   "mimetype": "text/x-python",
   "name": "python",
   "nbconvert_exporter": "python",
   "pygments_lexer": "ipython3",
   "version": "3.8.1"
  }
 },
 "nbformat": 4,
 "nbformat_minor": 4
}
